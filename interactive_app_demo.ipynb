{
 "cells": [
  {
   "cell_type": "markdown",
   "metadata": {},
   "source": [
    "# Interactive Spectroscopy App Demo\n",
    "\n",
    "This notebook demonstrates the new interactive spectroscopy application that connects the data processing class to a plotly+ipywidgets layout."
   ]
  },
  {
   "cell_type": "code",
   "execution_count": 1,
   "metadata": {},
   "outputs": [],
   "source": [
    "import numpy as np\n",
    "from pyquac_light import Spectroscopy, RandomSpectroscopy, launch_app, InteractiveSpectroscopyApp\n"
   ]
  },
  {
   "cell_type": "markdown",
   "metadata": {},
   "source": [
    "## 1. Launch App with Empty State\n",
    "\n",
    "First, let's launch the app without any data. This demonstrates the optional parameter functionality - you can start with an empty app and load data later."
   ]
  },
  {
   "cell_type": "code",
   "execution_count": 2,
   "metadata": {},
   "outputs": [
    {
     "data": {
      "application/vnd.jupyter.widget-view+json": {
       "model_id": "f662cd9eb28141868b575ea851351e21",
       "version_major": 2,
       "version_minor": 0
      },
      "text/plain": [
       "VBox(children=(HBox(children=(Accordion(children=(VBox(children=(Button(description='Load CSV', icon='folder-o…"
      ]
     },
     "execution_count": 2,
     "metadata": {},
     "output_type": "execute_result"
    }
   ],
   "source": [
    "# Launch app with no initial data\n",
    "empty_app = launch_app()\n",
    "empty_app"
   ]
  },
  {
   "cell_type": "markdown",
   "metadata": {},
   "source": [
    "## 2. Create Sample Data and Launch App\n",
    "\n",
    "Now let's create some sample spectroscopy data and launch the app with it."
   ]
  },
  {
   "cell_type": "code",
   "execution_count": 2,
   "metadata": {},
   "outputs": [
    {
     "name": "stdout",
     "output_type": "stream",
     "text": [
      "Created spectroscopy data with 51 x points and 101 y points\n",
      "Total measured points: 0\n"
     ]
    }
   ],
   "source": [
    "# Create sample data\n",
    "x_arr = np.linspace(-1.0, 1.0, 51)  # Smaller grid for demo\n",
    "y_arr = np.linspace(4e9, 5e9, 101)\n",
    "\n",
    "# Create a RandomSpectroscopy instance\n",
    "spec = RandomSpectroscopy(x_arr=x_arr, y_arr=y_arr)\n",
    "\n",
    "# Run a quick scan to get some initial data\n",
    "# spec.run_full_scan(sleep=1e-6)\n",
    "\n",
    "print(f\"Created spectroscopy data with {len(spec.x_arr)} x points and {len(spec.y_arr)} y points\")\n",
    "print(f\"Total measured points: {len(spec._raw_x)}\")"
   ]
  },
  {
   "cell_type": "markdown",
   "metadata": {},
   "source": [
    "## 3. Launch Interactive App with Data\n",
    "\n",
    "Launch the app with the spectroscopy data. This demonstrates:\n",
    "- Live data connection: the heatmap shows current data from the spec instance\n",
    "- Click interactions: clicking on the heatmap updates the horizontal and vertical slices\n",
    "- Performance controls: switch between Static/Live modes\n",
    "- Crosshair controls: toggle crosshair visibility"
   ]
  },
  {
   "cell_type": "code",
   "execution_count": 3,
   "metadata": {},
   "outputs": [
    {
     "data": {
      "application/vnd.jupyter.widget-view+json": {
       "model_id": "188e970e43104fe6b4cb64e6e5fbcb0d",
       "version_major": 2,
       "version_minor": 0
      },
      "text/plain": [
       "VBox(children=(HBox(children=(Accordion(children=(VBox(children=(Button(description='Load CSV', icon='folder-o…"
      ]
     },
     "execution_count": 3,
     "metadata": {},
     "output_type": "execute_result"
    }
   ],
   "source": [
    "app = InteractiveSpectroscopyApp(spec)\n",
    "app.get_widget()"
   ]
  },
  {
   "cell_type": "code",
   "execution_count": 7,
   "metadata": {},
   "outputs": [
    {
     "data": {
      "text/plain": [
       "[(-0.8, 4510000000),\n",
       " (-0.040000000000000036, 4740000000),\n",
       " (0.8800000000000001, 4430000000)]"
      ]
     },
     "execution_count": 7,
     "metadata": {},
     "output_type": "execute_result"
    }
   ],
   "source": [
    "app.picked_points"
   ]
  },
  {
   "cell_type": "code",
   "execution_count": 7,
   "metadata": {},
   "outputs": [
    {
     "data": {
      "text/plain": [
       "poly1d([-5.12002686e+08,  9.56437804e+07,  4.70092832e+09])"
      ]
     },
     "execution_count": 7,
     "metadata": {},
     "output_type": "execute_result"
    }
   ],
   "source": []
  },
  {
   "cell_type": "code",
   "execution_count": 4,
   "metadata": {},
   "outputs": [
    {
     "ename": "KeyboardInterrupt",
     "evalue": "",
     "output_type": "error",
     "traceback": [
      "\u001b[31m---------------------------------------------------------------------------\u001b[39m",
      "\u001b[31mKeyboardInterrupt\u001b[39m                         Traceback (most recent call last)",
      "\u001b[36mCell\u001b[39m\u001b[36m \u001b[39m\u001b[32mIn[4]\u001b[39m\u001b[32m, line 1\u001b[39m\n\u001b[32m----> \u001b[39m\u001b[32m1\u001b[39m \u001b[43mspec\u001b[49m\u001b[43m.\u001b[49m\u001b[43mrun_full_scan\u001b[49m\u001b[43m(\u001b[49m\u001b[43msleep\u001b[49m\u001b[43m=\u001b[49m\u001b[32;43m0.005\u001b[39;49m\u001b[43m)\u001b[49m\n",
      "\u001b[36mFile \u001b[39m\u001b[32m~\\github\\pyquac-light\\src\\pyquac_light\\datatools.py:418\u001b[39m, in \u001b[36mRandomSpectroscopy.run_full_scan\u001b[39m\u001b[34m(self, sleep, x_subset)\u001b[39m\n\u001b[32m    416\u001b[39m z = np.random.random()\n\u001b[32m    417\u001b[39m \u001b[38;5;28mself\u001b[39m.write(x, y, z)\n\u001b[32m--> \u001b[39m\u001b[32m418\u001b[39m \u001b[43mbusy_sleep\u001b[49m\u001b[43m(\u001b[49m\u001b[43msleep\u001b[49m\u001b[43m)\u001b[49m\n",
      "\u001b[36mFile \u001b[39m\u001b[32m~\\github\\pyquac-light\\src\\pyquac_light\\datatools.py:402\u001b[39m, in \u001b[36mbusy_sleep\u001b[39m\u001b[34m(sec)\u001b[39m\n\u001b[32m    400\u001b[39m \u001b[38;5;250m\u001b[39m\u001b[33;03m\"\"\"Sub-millisecond sleep using a busy loop. Use sparingly (CPU intensive).\"\"\"\u001b[39;00m\n\u001b[32m    401\u001b[39m deadline = perf_counter() + sec\n\u001b[32m--> \u001b[39m\u001b[32m402\u001b[39m \u001b[38;5;28;01mwhile\u001b[39;00m \u001b[43mperf_counter\u001b[49m\u001b[43m(\u001b[49m\u001b[43m)\u001b[49m\u001b[43m \u001b[49m\u001b[43m<\u001b[49m\u001b[43m \u001b[49m\u001b[43mdeadline\u001b[49m:\n\u001b[32m    403\u001b[39m     \u001b[38;5;28;01mpass\u001b[39;00m\n",
      "\u001b[31mKeyboardInterrupt\u001b[39m: "
     ]
    }
   ],
   "source": [
    "spec.run_full_scan(sleep=0.005)"
   ]
  },
  {
   "cell_type": "code",
   "execution_count": 5,
   "metadata": {},
   "outputs": [],
   "source": [
    "spec.run_corridor_scan(app.fitted_ridge, sleep=0.005)"
   ]
  },
  {
   "cell_type": "code",
   "execution_count": 5,
   "metadata": {},
   "outputs": [],
   "source": [
    "spec.drop(x=0.2)"
   ]
  },
  {
   "cell_type": "code",
   "execution_count": 6,
   "metadata": {},
   "outputs": [],
   "source": [
    "spec.clean_up(app.fitted_ridge)"
   ]
  },
  {
   "cell_type": "markdown",
   "metadata": {},
   "source": [
    "## 4. Test Live Updates\n",
    "\n",
    "Now let's test the live update functionality. When you run the cell below, new data points will be added to the spectroscopy instance, and if the app is in \"Live\" mode, you should see the heatmap update automatically."
   ]
  },
  {
   "cell_type": "code",
   "execution_count": null,
   "metadata": {},
   "outputs": [],
   "source": [
    "# Add more data points - this should trigger live updates in the app\n",
    "import time\n",
    "\n",
    "print(\"Adding new data points...\")\n",
    "for i in range(10):\n",
    "    # Add some random points\n",
    "    x_val = np.random.choice(spec.x_arr)\n",
    "    y_val = np.random.choice(spec.y_arr)\n",
    "    z_val = np.random.random()\n",
    "    \n",
    "    spec.write(x_val, y_val, z_val)\n",
    "    print(f\"Added point ({x_val:.3f}, {y_val:.2e}, {z_val:.3f})\")\n",
    "    \n",
    "    time.sleep(0.5)  # Wait to see the updates\n",
    "\n",
    "print(\"Done adding points!\")"
   ]
  },
  {
   "cell_type": "markdown",
   "metadata": {},
   "source": [
    "## 5. Test Data Operations\n",
    "\n",
    "Test how the app reacts to data operations like dropping points."
   ]
  },
  {
   "cell_type": "code",
   "execution_count": null,
   "metadata": {},
   "outputs": [],
   "source": [
    "# Drop some x values - this should update the heatmap\n",
    "x_to_drop = spec.x_arr[::10]  # Drop every 10th x value\n",
    "print(f\"Dropping data at x values: {x_to_drop}\")\n",
    "\n",
    "spec.drop(x=x_to_drop)\n",
    "print(\"Data dropped! Check the heatmap for updates.\")"
   ]
  },
  {
   "cell_type": "markdown",
   "metadata": {},
   "source": [
    "## 6. Test Ridge Fitting\n",
    "\n",
    "Add some structured data and test the ridge fitting functionality."
   ]
  },
  {
   "cell_type": "code",
   "execution_count": null,
   "metadata": {},
   "outputs": [],
   "source": [
    "# Clear existing data and add structured data for ridge fitting\n",
    "spec.clear()\n",
    "\n",
    "# Create a synthetic ridge pattern\n",
    "for i, x_val in enumerate(spec.x_arr[::2]):  # Use every other x point\n",
    "    # Create a parabolic ridge\n",
    "    y_center = 4.5e9 + 0.1e9 * x_val**2  # Parabolic center\n",
    "    \n",
    "    # Add points around the ridge\n",
    "    for j in range(5):\n",
    "        y_offset = (j - 2) * 0.02e9  # Small spread around center\n",
    "        y_val = y_center + y_offset\n",
    "        \n",
    "        # Make sure y_val is within bounds\n",
    "        if spec.y_arr[0] <= y_val <= spec.y_arr[-1]:\n",
    "            # Higher signal near the ridge center\n",
    "            z_val = 1.0 - abs(y_offset) / 0.02e9 + 0.1 * np.random.random()\n",
    "            spec.write(x_val, y_val, z_val)\n",
    "\n",
    "print(f\"Added structured data with {len(spec._raw_x)} points\")\n",
    "print(\"Now try the 'Fit Ridge' button in the app!\")"
   ]
  },
  {
   "cell_type": "markdown",
   "metadata": {},
   "source": [
    "## Instructions for Testing\n",
    "\n",
    "1. **Click Interactions**: Click anywhere on the main heatmap to see the horizontal and vertical slices update\n",
    "\n",
    "2. **Crosshairs**: Toggle the \"Show click lines\" checkbox to show/hide crosshair lines at your click position\n",
    "\n",
    "3. **Performance Mode**: \n",
    "   - Switch to \"Live\" mode to see automatic updates when data changes\n",
    "   - Switch to \"Static\" mode to disable automatic updates\n",
    "   - Adjust the update interval (in milliseconds)\n",
    "\n",
    "4. **Ridge Fitting**: \n",
    "   - Set the polynomial degree (try 2 for the parabolic data)\n",
    "   - Click \"Fit Ridge\" to fit a curve to the peak positions\n",
    "   - Toggle \"Show Fit Curve\" to show/hide the fitted curve\n",
    "\n",
    "5. **File Operations**: \n",
    "   - \"Save CSV\" will save the current data to a file\n",
    "   - \"Load CSV\" is a placeholder for now\n",
    "\n",
    "The app successfully connects the Spectroscopy data processing class to the interactive plotly+ipywidgets interface!"
   ]
  }
 ],
 "metadata": {
  "kernelspec": {
   "display_name": "Python 3 (ipykernel)",
   "language": "python",
   "name": "python3"
  },
  "language_info": {
   "codemirror_mode": {
    "name": "ipython",
    "version": 3
   },
   "file_extension": ".py",
   "mimetype": "text/x-python",
   "name": "python",
   "nbconvert_exporter": "python",
   "pygments_lexer": "ipython3",
   "version": "3.11.9"
  }
 },
 "nbformat": 4,
 "nbformat_minor": 4
}
