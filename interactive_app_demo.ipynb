{
 "cells": [
  {
   "cell_type": "markdown",
   "metadata": {},
   "source": [
    "# Interactive Spectroscopy App Demo\n",
    "\n",
    "This notebook demonstrates the new interactive spectroscopy application that connects the data processing class to a plotly+ipywidgets layout."
   ]
  },
  {
   "cell_type": "code",
   "execution_count": 1,
   "metadata": {},
   "outputs": [],
   "source": [
    "import numpy as np\n",
    "from pyquac_light import Spectroscopy, RandomSpectroscopy, launch_app, InteractiveSpectroscopyApp\n"
   ]
  },
  {
   "cell_type": "markdown",
   "metadata": {},
   "source": [
    "## 2. Create Sample Data and Launch App\n",
    "\n",
    "Now let's create some sample spectroscopy data and launch the app with it."
   ]
  },
  {
   "cell_type": "code",
   "execution_count": 2,
   "metadata": {},
   "outputs": [
    {
     "name": "stdout",
     "output_type": "stream",
     "text": [
      "Created spectroscopy data with 51 x points and 101 y points\n",
      "Total measured points: 0\n"
     ]
    }
   ],
   "source": [
    "# Create sample data\n",
    "x_arr = np.linspace(-1.0, 1.0, 51)  # Smaller grid for demo\n",
    "y_arr = np.linspace(4e9, 5e9, 101)\n",
    "\n",
    "# Create a RandomSpectroscopy instance\n",
    "spec = RandomSpectroscopy(x_arr=x_arr, y_arr=y_arr)\n",
    "\n",
    "# Run a quick scan to get some initial data\n",
    "# spec.run_full_scan(sleep=1e-6)\n",
    "\n",
    "print(f\"Created spectroscopy data with {len(spec.x_arr)} x points and {len(spec.y_arr)} y points\")\n",
    "print(f\"Total measured points: {len(spec._raw_x)}\")"
   ]
  },
  {
   "cell_type": "code",
   "execution_count": 3,
   "metadata": {},
   "outputs": [],
   "source": [
    "spec = RandomSpectroscopy.load_csv(\"example_data.csv\")"
   ]
  },
  {
   "cell_type": "markdown",
   "metadata": {},
   "source": [
    "## 3. Launch Interactive App with Data\n",
    "\n",
    "Launch the app with the spectroscopy data. This demonstrates:\n",
    "- Live data connection: the heatmap shows current data from the spec instance\n",
    "- Click interactions: clicking on the heatmap updates the horizontal and vertical slices\n",
    "- Performance controls: switch between Static/Live modes\n",
    "- Crosshair controls: toggle crosshair visibility"
   ]
  },
  {
   "cell_type": "code",
   "execution_count": 4,
   "metadata": {},
   "outputs": [
    {
     "data": {
      "application/vnd.jupyter.widget-view+json": {
       "model_id": "ac0c2db0d47c47f5aba5ec89c956cb18",
       "version_major": 2,
       "version_minor": 0
      },
      "text/plain": [
       "VBox(children=(HBox(children=(Accordion(children=(VBox(children=(Button(description='Full Measurement', icon='…"
      ]
     },
     "execution_count": 4,
     "metadata": {},
     "output_type": "execute_result"
    }
   ],
   "source": [
    "app = InteractiveSpectroscopyApp(spec)\n",
    "app.get_widget()"
   ]
  },
  {
   "cell_type": "code",
   "execution_count": 5,
   "metadata": {},
   "outputs": [],
   "source": [
    "spec.clear()"
   ]
  },
  {
   "cell_type": "code",
   "execution_count": 4,
   "metadata": {},
   "outputs": [],
   "source": [
    "spec.run_full_scan(sleep=0.05)"
   ]
  },
  {
   "cell_type": "code",
   "execution_count": 7,
   "metadata": {},
   "outputs": [],
   "source": [
    "spec.run_corridor_scan(app.fitted_ridge, sleep=0.005)"
   ]
  },
  {
   "cell_type": "code",
   "execution_count": 5,
   "metadata": {},
   "outputs": [],
   "source": [
    "spec.drop(x=0.2)"
   ]
  },
  {
   "cell_type": "code",
   "execution_count": 5,
   "metadata": {},
   "outputs": [
    {
     "ename": "TypeError",
     "evalue": "'NoneType' object is not callable",
     "output_type": "error",
     "traceback": [
      "\u001b[31m---------------------------------------------------------------------------\u001b[39m",
      "\u001b[31mTypeError\u001b[39m                                 Traceback (most recent call last)",
      "\u001b[36mCell\u001b[39m\u001b[36m \u001b[39m\u001b[32mIn[5]\u001b[39m\u001b[32m, line 1\u001b[39m\n\u001b[32m----> \u001b[39m\u001b[32m1\u001b[39m \u001b[43mspec\u001b[49m\u001b[43m.\u001b[49m\u001b[43mclean_up\u001b[49m\u001b[43m(\u001b[49m\u001b[43mapp\u001b[49m\u001b[43m.\u001b[49m\u001b[43mfitted_ridge\u001b[49m\u001b[43m)\u001b[49m\n",
      "\u001b[36mFile \u001b[39m\u001b[32m~\\github\\pyquac-light\\src\\pyquac_light\\datatools.py:370\u001b[39m, in \u001b[36mSpectroscopy.clean_up\u001b[39m\u001b[34m(self, ridge, width_frac)\u001b[39m\n\u001b[32m    365\u001b[39m \u001b[38;5;250m\u001b[39m\u001b[33;03m\"\"\"\u001b[39;00m\n\u001b[32m    366\u001b[39m \u001b[33;03mDrop all measured data _except_ the corridor around the given ridge.\u001b[39;00m\n\u001b[32m    367\u001b[39m \u001b[33;03mPoints outside the vertical corridor of width_frac are erased.\u001b[39;00m\n\u001b[32m    368\u001b[39m \u001b[33;03m\"\"\"\u001b[39;00m\n\u001b[32m    369\u001b[39m \u001b[38;5;66;03m# compute corridor mask and flatten it\u001b[39;00m\n\u001b[32m--> \u001b[39m\u001b[32m370\u001b[39m corridor = \u001b[38;5;28;43mself\u001b[39;49m\u001b[43m.\u001b[49m\u001b[43mcorridor_mask\u001b[49m\u001b[43m(\u001b[49m\u001b[43mridge\u001b[49m\u001b[43m,\u001b[49m\u001b[43m \u001b[49m\u001b[43mwidth_frac\u001b[49m\u001b[43m=\u001b[49m\u001b[43mwidth_frac\u001b[49m\u001b[43m)\u001b[49m\n\u001b[32m    371\u001b[39m flat_mask = corridor.ravel(order=\u001b[33m\"\u001b[39m\u001b[33mF\u001b[39m\u001b[33m\"\u001b[39m)\n\u001b[32m    372\u001b[39m \u001b[38;5;66;03m# apply mask: keep only within corridor\u001b[39;00m\n",
      "\u001b[36mFile \u001b[39m\u001b[32m~\\github\\pyquac-light\\src\\pyquac_light\\datatools.py:274\u001b[39m, in \u001b[36mSpectroscopy.corridor_mask\u001b[39m\u001b[34m(self, ridge, width_frac)\u001b[39m\n\u001b[32m    272\u001b[39m mask = np.zeros((ny, nx), dtype=\u001b[38;5;28mbool\u001b[39m)\n\u001b[32m    273\u001b[39m \u001b[38;5;28;01mfor\u001b[39;00m col, x_val \u001b[38;5;129;01min\u001b[39;00m \u001b[38;5;28menumerate\u001b[39m(\u001b[38;5;28mself\u001b[39m._x_list):\n\u001b[32m--> \u001b[39m\u001b[32m274\u001b[39m     y_center = \u001b[43mridge\u001b[49m\u001b[43m(\u001b[49m\u001b[43mx_val\u001b[49m\u001b[43m)\u001b[49m\n\u001b[32m    275\u001b[39m     y_idx = \u001b[38;5;28mint\u001b[39m(\u001b[38;5;28mround\u001b[39m((y_center - \u001b[38;5;28mself\u001b[39m._y_list[\u001b[32m0\u001b[39m]) / \u001b[38;5;28mself\u001b[39m._dy))\n\u001b[32m    276\u001b[39m     lo = \u001b[38;5;28mmax\u001b[39m(\u001b[32m0\u001b[39m, y_idx - half_span)\n",
      "\u001b[31mTypeError\u001b[39m: 'NoneType' object is not callable"
     ]
    }
   ],
   "source": [
    "spec.clean_up(app.fitted_ridge)"
   ]
  },
  {
   "cell_type": "markdown",
   "metadata": {},
   "source": [
    "## 4. Test Live Updates\n",
    "\n",
    "Now let's test the live update functionality. When you run the cell below, new data points will be added to the spectroscopy instance, and if the app is in \"Live\" mode, you should see the heatmap update automatically."
   ]
  },
  {
   "cell_type": "code",
   "execution_count": null,
   "metadata": {},
   "outputs": [],
   "source": [
    "# Add more data points - this should trigger live updates in the app\n",
    "import time\n",
    "\n",
    "print(\"Adding new data points...\")\n",
    "for i in range(10):\n",
    "    # Add some random points\n",
    "    x_val = np.random.choice(spec.x_arr)\n",
    "    y_val = np.random.choice(spec.y_arr)\n",
    "    z_val = np.random.random()\n",
    "    \n",
    "    spec.write(x_val, y_val, z_val)\n",
    "    print(f\"Added point ({x_val:.3f}, {y_val:.2e}, {z_val:.3f})\")\n",
    "    \n",
    "    time.sleep(0.5)  # Wait to see the updates\n",
    "\n",
    "print(\"Done adding points!\")"
   ]
  },
  {
   "cell_type": "markdown",
   "metadata": {},
   "source": [
    "## 5. Test Data Operations\n",
    "\n",
    "Test how the app reacts to data operations like dropping points."
   ]
  },
  {
   "cell_type": "code",
   "execution_count": null,
   "metadata": {},
   "outputs": [],
   "source": [
    "# Drop some x values - this should update the heatmap\n",
    "x_to_drop = spec.x_arr[::10]  # Drop every 10th x value\n",
    "print(f\"Dropping data at x values: {x_to_drop}\")\n",
    "\n",
    "spec.drop(x=x_to_drop)\n",
    "print(\"Data dropped! Check the heatmap for updates.\")"
   ]
  },
  {
   "cell_type": "markdown",
   "metadata": {},
   "source": [
    "## 6. Test Ridge Fitting\n",
    "\n",
    "Add some structured data and test the ridge fitting functionality."
   ]
  },
  {
   "cell_type": "code",
   "execution_count": null,
   "metadata": {},
   "outputs": [],
   "source": [
    "# Clear existing data and add structured data for ridge fitting\n",
    "spec.clear()\n",
    "\n",
    "# Create a synthetic ridge pattern\n",
    "for i, x_val in enumerate(spec.x_arr[::2]):  # Use every other x point\n",
    "    # Create a parabolic ridge\n",
    "    y_center = 4.5e9 + 0.1e9 * x_val**2  # Parabolic center\n",
    "    \n",
    "    # Add points around the ridge\n",
    "    for j in range(5):\n",
    "        y_offset = (j - 2) * 0.02e9  # Small spread around center\n",
    "        y_val = y_center + y_offset\n",
    "        \n",
    "        # Make sure y_val is within bounds\n",
    "        if spec.y_arr[0] <= y_val <= spec.y_arr[-1]:\n",
    "            # Higher signal near the ridge center\n",
    "            z_val = 1.0 - abs(y_offset) / 0.02e9 + 0.1 * np.random.random()\n",
    "            spec.write(x_val, y_val, z_val)\n",
    "\n",
    "print(f\"Added structured data with {len(spec._raw_x)} points\")\n",
    "print(\"Now try the 'Fit Ridge' button in the app!\")"
   ]
  },
  {
   "cell_type": "markdown",
   "metadata": {},
   "source": [
    "## Instructions for Testing\n",
    "\n",
    "1. **Click Interactions**: Click anywhere on the main heatmap to see the horizontal and vertical slices update\n",
    "\n",
    "2. **Crosshairs**: Toggle the \"Show click lines\" checkbox to show/hide crosshair lines at your click position\n",
    "\n",
    "3. **Performance Mode**: \n",
    "   - Switch to \"Live\" mode to see automatic updates when data changes\n",
    "   - Switch to \"Static\" mode to disable automatic updates\n",
    "   - Adjust the update interval (in milliseconds)\n",
    "\n",
    "4. **Ridge Fitting**: \n",
    "   - Set the polynomial degree (try 2 for the parabolic data)\n",
    "   - Click \"Fit Ridge\" to fit a curve to the peak positions\n",
    "   - Toggle \"Show Fit Curve\" to show/hide the fitted curve\n",
    "\n",
    "5. **File Operations**: \n",
    "   - \"Save CSV\" will save the current data to a file\n",
    "   - \"Load CSV\" is a placeholder for now\n",
    "\n",
    "The app successfully connects the Spectroscopy data processing class to the interactive plotly+ipywidgets interface!"
   ]
  },
  {
   "cell_type": "code",
   "execution_count": 5,
   "metadata": {},
   "outputs": [
    {
     "ename": "ModuleNotFoundError",
     "evalue": "No module named 'scipy'",
     "output_type": "error",
     "traceback": [
      "\u001b[31m---------------------------------------------------------------------------\u001b[39m",
      "\u001b[31mModuleNotFoundError\u001b[39m                       Traceback (most recent call last)",
      "\u001b[36mCell\u001b[39m\u001b[36m \u001b[39m\u001b[32mIn[5]\u001b[39m\u001b[32m, line 3\u001b[39m\n\u001b[32m      1\u001b[39m \u001b[38;5;28;01mimport\u001b[39;00m\u001b[38;5;250m \u001b[39m\u001b[34;01mplotly\u001b[39;00m\u001b[34;01m.\u001b[39;00m\u001b[34;01mgraph_objects\u001b[39;00m\u001b[38;5;250m \u001b[39m\u001b[38;5;28;01mas\u001b[39;00m\u001b[38;5;250m \u001b[39m\u001b[34;01mgo\u001b[39;00m\n\u001b[32m      2\u001b[39m \u001b[38;5;28;01mimport\u001b[39;00m\u001b[38;5;250m \u001b[39m\u001b[34;01mnumpy\u001b[39;00m\u001b[38;5;250m \u001b[39m\u001b[38;5;28;01mas\u001b[39;00m\u001b[38;5;250m \u001b[39m\u001b[34;01mnp\u001b[39;00m\n\u001b[32m----> \u001b[39m\u001b[32m3\u001b[39m \u001b[38;5;28;01mfrom\u001b[39;00m\u001b[38;5;250m \u001b[39m\u001b[34;01mscipy\u001b[39;00m\u001b[34;01m.\u001b[39;00m\u001b[34;01mspecial\u001b[39;00m\u001b[38;5;250m \u001b[39m\u001b[38;5;28;01mimport\u001b[39;00m gamma\n\u001b[32m      4\u001b[39m \u001b[38;5;28;01mfrom\u001b[39;00m\u001b[38;5;250m \u001b[39m\u001b[34;01mpathlib\u001b[39;00m\u001b[38;5;250m \u001b[39m\u001b[38;5;28;01mimport\u001b[39;00m Path\n\u001b[32m      6\u001b[39m xdata = np.linspace(-\u001b[32m5\u001b[39m, \u001b[32m5\u001b[39m, \u001b[32m1000\u001b[39m)\n",
      "\u001b[31mModuleNotFoundError\u001b[39m: No module named 'scipy'"
     ]
    }
   ],
   "source": [
    "import plotly.graph_objects as go\n",
    "import numpy as np\n",
    "from scipy.special import gamma\n",
    "from pathlib import Path\n",
    "\n",
    "xdata = np.linspace(-5, 5, 1000)\n",
    "ydata = gamma(xdata)\n",
    "\n",
    "trace0 = go.Scatter(\n",
    "    x=xdata,\n",
    "    y=ydata,\n",
    "    name='Γ(x)', mode='lines',\n",
    "    line=dict(color='black', width=.8))\n",
    "\n",
    "fig = go.Figure((trace0,))\n",
    "\n",
    "# Styling\n",
    "style_dict = {\n",
    "    'layout.plot_bgcolor': 'rgba(0, 0, 0, 0)',\n",
    "    'layout.font.family': 'Times New Roman',\n",
    "    'layout.xaxis.linecolor': 'black',\n",
    "    'layout.xaxis.ticks': 'inside',\n",
    "    'layout.xaxis.mirror': True,\n",
    "    'layout.xaxis.showline': True,\n",
    "    'layout.yaxis.linecolor': 'black',\n",
    "    'layout.yaxis.ticks': 'inside',\n",
    "    'layout.yaxis.mirror': True,\n",
    "    'layout.yaxis.showline': True,\n",
    "    'layout.autosize': False,\n",
    "    'layout.showlegend': True,\n",
    "    'layout.legend.bgcolor': 'rgba(0, 0, 0, 0)',\n",
    "    'layout.legend.xanchor': 'right',\n",
    "    'layout.legend.x': 1,\n",
    "    'layout.legend.font.family': 'monospace',\n",
    "    # Specialized:\n",
    "    # 'layout.xaxis.range': (2.3, 2.5),\n",
    "    'layout.yaxis.range': (-50, +50),\n",
    "    'layout.xaxis.title': r'$x$',\n",
    "    'layout.yaxis.title': r'$y$',\n",
    "    'layout.title': 'Advanced Example of a Line Plot with Plotly',\n",
    "}\n",
    "fig.update(**style_dict)\n",
    "fig.add_annotation(dict(\n",
    "    xref='paper',\n",
    "    yref='paper',\n",
    "    x=0.5, y=-0.25,\n",
    "    showarrow=False,\n",
    "    text='The figure above, is an example of publication quality plotting for'\n",
    "    ' scientific journals. This plot was generated using Plotly.'))\n",
    "\n",
    "fig"
   ]
  },
  {
   "cell_type": "code",
   "execution_count": 5,
   "metadata": {},
   "outputs": [
    {
     "data": {
      "application/vnd.plotly.v1+json": {
       "config": {
        "plotlyServerURL": "https://plot.ly"
       },
       "data": [
        {
         "colorbar": {
          "outlinecolor": "black",
          "outlinewidth": 0.8,
          "thickness": 20,
          "tickcolor": "black",
          "tickfont": {
           "color": "black",
           "family": "sans-serif",
           "size": 10
          },
          "ticklen": 3.5,
          "tickwidth": 0.8
         },
         "colorscale": [
          [
           0,
           "#440154"
          ],
          [
           0.1111111111111111,
           "#482878"
          ],
          [
           0.2222222222222222,
           "#3e4989"
          ],
          [
           0.3333333333333333,
           "#31688e"
          ],
          [
           0.4444444444444444,
           "#26828e"
          ],
          [
           0.5555555555555556,
           "#1f9e89"
          ],
          [
           0.6666666666666666,
           "#35b779"
          ],
          [
           0.7777777777777778,
           "#6ece58"
          ],
          [
           0.8888888888888888,
           "#b5de2b"
          ],
          [
           1,
           "#fde725"
          ]
         ],
         "showscale": true,
         "type": "heatmap",
         "z": [
          [
           1,
           20,
           30
          ],
          [
           20,
           1,
           60
          ],
          [
           30,
           60,
           1
          ]
         ]
        }
       ],
       "layout": {
        "font": {
         "color": "black",
         "family": "sans-serif",
         "size": 10
        },
        "height": 480,
        "margin": {
         "b": 80,
         "l": 80,
         "r": 80,
         "t": 80
        },
        "paper_bgcolor": "white",
        "plot_bgcolor": "white",
        "template": {
         "data": {
          "bar": [
           {
            "error_x": {
             "color": "#2a3f5f"
            },
            "error_y": {
             "color": "#2a3f5f"
            },
            "marker": {
             "line": {
              "color": "#E5ECF6",
              "width": 0.5
             },
             "pattern": {
              "fillmode": "overlay",
              "size": 10,
              "solidity": 0.2
             }
            },
            "type": "bar"
           }
          ],
          "barpolar": [
           {
            "marker": {
             "line": {
              "color": "#E5ECF6",
              "width": 0.5
             },
             "pattern": {
              "fillmode": "overlay",
              "size": 10,
              "solidity": 0.2
             }
            },
            "type": "barpolar"
           }
          ],
          "carpet": [
           {
            "aaxis": {
             "endlinecolor": "#2a3f5f",
             "gridcolor": "white",
             "linecolor": "white",
             "minorgridcolor": "white",
             "startlinecolor": "#2a3f5f"
            },
            "baxis": {
             "endlinecolor": "#2a3f5f",
             "gridcolor": "white",
             "linecolor": "white",
             "minorgridcolor": "white",
             "startlinecolor": "#2a3f5f"
            },
            "type": "carpet"
           }
          ],
          "choropleth": [
           {
            "colorbar": {
             "outlinewidth": 0,
             "ticks": ""
            },
            "type": "choropleth"
           }
          ],
          "contour": [
           {
            "colorbar": {
             "outlinewidth": 0,
             "ticks": ""
            },
            "colorscale": [
             [
              0,
              "#0d0887"
             ],
             [
              0.1111111111111111,
              "#46039f"
             ],
             [
              0.2222222222222222,
              "#7201a8"
             ],
             [
              0.3333333333333333,
              "#9c179e"
             ],
             [
              0.4444444444444444,
              "#bd3786"
             ],
             [
              0.5555555555555556,
              "#d8576b"
             ],
             [
              0.6666666666666666,
              "#ed7953"
             ],
             [
              0.7777777777777778,
              "#fb9f3a"
             ],
             [
              0.8888888888888888,
              "#fdca26"
             ],
             [
              1,
              "#f0f921"
             ]
            ],
            "type": "contour"
           }
          ],
          "contourcarpet": [
           {
            "colorbar": {
             "outlinewidth": 0,
             "ticks": ""
            },
            "type": "contourcarpet"
           }
          ],
          "heatmap": [
           {
            "colorbar": {
             "outlinewidth": 0,
             "ticks": ""
            },
            "colorscale": [
             [
              0,
              "#0d0887"
             ],
             [
              0.1111111111111111,
              "#46039f"
             ],
             [
              0.2222222222222222,
              "#7201a8"
             ],
             [
              0.3333333333333333,
              "#9c179e"
             ],
             [
              0.4444444444444444,
              "#bd3786"
             ],
             [
              0.5555555555555556,
              "#d8576b"
             ],
             [
              0.6666666666666666,
              "#ed7953"
             ],
             [
              0.7777777777777778,
              "#fb9f3a"
             ],
             [
              0.8888888888888888,
              "#fdca26"
             ],
             [
              1,
              "#f0f921"
             ]
            ],
            "type": "heatmap"
           }
          ],
          "histogram": [
           {
            "marker": {
             "pattern": {
              "fillmode": "overlay",
              "size": 10,
              "solidity": 0.2
             }
            },
            "type": "histogram"
           }
          ],
          "histogram2d": [
           {
            "colorbar": {
             "outlinewidth": 0,
             "ticks": ""
            },
            "colorscale": [
             [
              0,
              "#0d0887"
             ],
             [
              0.1111111111111111,
              "#46039f"
             ],
             [
              0.2222222222222222,
              "#7201a8"
             ],
             [
              0.3333333333333333,
              "#9c179e"
             ],
             [
              0.4444444444444444,
              "#bd3786"
             ],
             [
              0.5555555555555556,
              "#d8576b"
             ],
             [
              0.6666666666666666,
              "#ed7953"
             ],
             [
              0.7777777777777778,
              "#fb9f3a"
             ],
             [
              0.8888888888888888,
              "#fdca26"
             ],
             [
              1,
              "#f0f921"
             ]
            ],
            "type": "histogram2d"
           }
          ],
          "histogram2dcontour": [
           {
            "colorbar": {
             "outlinewidth": 0,
             "ticks": ""
            },
            "colorscale": [
             [
              0,
              "#0d0887"
             ],
             [
              0.1111111111111111,
              "#46039f"
             ],
             [
              0.2222222222222222,
              "#7201a8"
             ],
             [
              0.3333333333333333,
              "#9c179e"
             ],
             [
              0.4444444444444444,
              "#bd3786"
             ],
             [
              0.5555555555555556,
              "#d8576b"
             ],
             [
              0.6666666666666666,
              "#ed7953"
             ],
             [
              0.7777777777777778,
              "#fb9f3a"
             ],
             [
              0.8888888888888888,
              "#fdca26"
             ],
             [
              1,
              "#f0f921"
             ]
            ],
            "type": "histogram2dcontour"
           }
          ],
          "mesh3d": [
           {
            "colorbar": {
             "outlinewidth": 0,
             "ticks": ""
            },
            "type": "mesh3d"
           }
          ],
          "parcoords": [
           {
            "line": {
             "colorbar": {
              "outlinewidth": 0,
              "ticks": ""
             }
            },
            "type": "parcoords"
           }
          ],
          "pie": [
           {
            "automargin": true,
            "type": "pie"
           }
          ],
          "scatter": [
           {
            "fillpattern": {
             "fillmode": "overlay",
             "size": 10,
             "solidity": 0.2
            },
            "type": "scatter"
           }
          ],
          "scatter3d": [
           {
            "line": {
             "colorbar": {
              "outlinewidth": 0,
              "ticks": ""
             }
            },
            "marker": {
             "colorbar": {
              "outlinewidth": 0,
              "ticks": ""
             }
            },
            "type": "scatter3d"
           }
          ],
          "scattercarpet": [
           {
            "marker": {
             "colorbar": {
              "outlinewidth": 0,
              "ticks": ""
             }
            },
            "type": "scattercarpet"
           }
          ],
          "scattergeo": [
           {
            "marker": {
             "colorbar": {
              "outlinewidth": 0,
              "ticks": ""
             }
            },
            "type": "scattergeo"
           }
          ],
          "scattergl": [
           {
            "marker": {
             "colorbar": {
              "outlinewidth": 0,
              "ticks": ""
             }
            },
            "type": "scattergl"
           }
          ],
          "scattermap": [
           {
            "marker": {
             "colorbar": {
              "outlinewidth": 0,
              "ticks": ""
             }
            },
            "type": "scattermap"
           }
          ],
          "scattermapbox": [
           {
            "marker": {
             "colorbar": {
              "outlinewidth": 0,
              "ticks": ""
             }
            },
            "type": "scattermapbox"
           }
          ],
          "scatterpolar": [
           {
            "marker": {
             "colorbar": {
              "outlinewidth": 0,
              "ticks": ""
             }
            },
            "type": "scatterpolar"
           }
          ],
          "scatterpolargl": [
           {
            "marker": {
             "colorbar": {
              "outlinewidth": 0,
              "ticks": ""
             }
            },
            "type": "scatterpolargl"
           }
          ],
          "scatterternary": [
           {
            "marker": {
             "colorbar": {
              "outlinewidth": 0,
              "ticks": ""
             }
            },
            "type": "scatterternary"
           }
          ],
          "surface": [
           {
            "colorbar": {
             "outlinewidth": 0,
             "ticks": ""
            },
            "colorscale": [
             [
              0,
              "#0d0887"
             ],
             [
              0.1111111111111111,
              "#46039f"
             ],
             [
              0.2222222222222222,
              "#7201a8"
             ],
             [
              0.3333333333333333,
              "#9c179e"
             ],
             [
              0.4444444444444444,
              "#bd3786"
             ],
             [
              0.5555555555555556,
              "#d8576b"
             ],
             [
              0.6666666666666666,
              "#ed7953"
             ],
             [
              0.7777777777777778,
              "#fb9f3a"
             ],
             [
              0.8888888888888888,
              "#fdca26"
             ],
             [
              1,
              "#f0f921"
             ]
            ],
            "type": "surface"
           }
          ],
          "table": [
           {
            "cells": {
             "fill": {
              "color": "#EBF0F8"
             },
             "line": {
              "color": "white"
             }
            },
            "header": {
             "fill": {
              "color": "#C8D4E3"
             },
             "line": {
              "color": "white"
             }
            },
            "type": "table"
           }
          ]
         },
         "layout": {
          "annotationdefaults": {
           "arrowcolor": "#2a3f5f",
           "arrowhead": 0,
           "arrowwidth": 1
          },
          "autotypenumbers": "strict",
          "coloraxis": {
           "colorbar": {
            "outlinewidth": 0,
            "ticks": ""
           }
          },
          "colorscale": {
           "diverging": [
            [
             0,
             "#8e0152"
            ],
            [
             0.1,
             "#c51b7d"
            ],
            [
             0.2,
             "#de77ae"
            ],
            [
             0.3,
             "#f1b6da"
            ],
            [
             0.4,
             "#fde0ef"
            ],
            [
             0.5,
             "#f7f7f7"
            ],
            [
             0.6,
             "#e6f5d0"
            ],
            [
             0.7,
             "#b8e186"
            ],
            [
             0.8,
             "#7fbc41"
            ],
            [
             0.9,
             "#4d9221"
            ],
            [
             1,
             "#276419"
            ]
           ],
           "sequential": [
            [
             0,
             "#0d0887"
            ],
            [
             0.1111111111111111,
             "#46039f"
            ],
            [
             0.2222222222222222,
             "#7201a8"
            ],
            [
             0.3333333333333333,
             "#9c179e"
            ],
            [
             0.4444444444444444,
             "#bd3786"
            ],
            [
             0.5555555555555556,
             "#d8576b"
            ],
            [
             0.6666666666666666,
             "#ed7953"
            ],
            [
             0.7777777777777778,
             "#fb9f3a"
            ],
            [
             0.8888888888888888,
             "#fdca26"
            ],
            [
             1,
             "#f0f921"
            ]
           ],
           "sequentialminus": [
            [
             0,
             "#0d0887"
            ],
            [
             0.1111111111111111,
             "#46039f"
            ],
            [
             0.2222222222222222,
             "#7201a8"
            ],
            [
             0.3333333333333333,
             "#9c179e"
            ],
            [
             0.4444444444444444,
             "#bd3786"
            ],
            [
             0.5555555555555556,
             "#d8576b"
            ],
            [
             0.6666666666666666,
             "#ed7953"
            ],
            [
             0.7777777777777778,
             "#fb9f3a"
            ],
            [
             0.8888888888888888,
             "#fdca26"
            ],
            [
             1,
             "#f0f921"
            ]
           ]
          },
          "colorway": [
           "#636efa",
           "#EF553B",
           "#00cc96",
           "#ab63fa",
           "#FFA15A",
           "#19d3f3",
           "#FF6692",
           "#B6E880",
           "#FF97FF",
           "#FECB52"
          ],
          "font": {
           "color": "#2a3f5f"
          },
          "geo": {
           "bgcolor": "white",
           "lakecolor": "white",
           "landcolor": "#E5ECF6",
           "showlakes": true,
           "showland": true,
           "subunitcolor": "white"
          },
          "hoverlabel": {
           "align": "left"
          },
          "hovermode": "closest",
          "mapbox": {
           "style": "light"
          },
          "paper_bgcolor": "white",
          "plot_bgcolor": "#E5ECF6",
          "polar": {
           "angularaxis": {
            "gridcolor": "white",
            "linecolor": "white",
            "ticks": ""
           },
           "bgcolor": "#E5ECF6",
           "radialaxis": {
            "gridcolor": "white",
            "linecolor": "white",
            "ticks": ""
           }
          },
          "scene": {
           "xaxis": {
            "backgroundcolor": "#E5ECF6",
            "gridcolor": "white",
            "gridwidth": 2,
            "linecolor": "white",
            "showbackground": true,
            "ticks": "",
            "zerolinecolor": "white"
           },
           "yaxis": {
            "backgroundcolor": "#E5ECF6",
            "gridcolor": "white",
            "gridwidth": 2,
            "linecolor": "white",
            "showbackground": true,
            "ticks": "",
            "zerolinecolor": "white"
           },
           "zaxis": {
            "backgroundcolor": "#E5ECF6",
            "gridcolor": "white",
            "gridwidth": 2,
            "linecolor": "white",
            "showbackground": true,
            "ticks": "",
            "zerolinecolor": "white"
           }
          },
          "shapedefaults": {
           "line": {
            "color": "#2a3f5f"
           }
          },
          "ternary": {
           "aaxis": {
            "gridcolor": "white",
            "linecolor": "white",
            "ticks": ""
           },
           "baxis": {
            "gridcolor": "white",
            "linecolor": "white",
            "ticks": ""
           },
           "bgcolor": "#E5ECF6",
           "caxis": {
            "gridcolor": "white",
            "linecolor": "white",
            "ticks": ""
           }
          },
          "title": {
           "x": 0.05
          },
          "xaxis": {
           "automargin": true,
           "gridcolor": "white",
           "linecolor": "white",
           "ticks": "",
           "title": {
            "standoff": 15
           },
           "zerolinecolor": "white",
           "zerolinewidth": 2
          },
          "yaxis": {
           "automargin": true,
           "gridcolor": "white",
           "linecolor": "white",
           "ticks": "",
           "title": {
            "standoff": 15
           },
           "zerolinecolor": "white",
           "zerolinewidth": 2
          }
         }
        },
        "width": 640,
        "xaxis": {
         "linecolor": "black",
         "mirror": true,
         "showline": true,
         "tickcolor": "black",
         "ticklen": 3.5,
         "ticks": "outside",
         "tickwidth": 0.8
        },
        "yaxis": {
         "linecolor": "black",
         "mirror": true,
         "showline": true,
         "tickcolor": "black",
         "ticklen": 3.5,
         "ticks": "outside",
         "tickwidth": 0.8
        }
       }
      },
      "image/png": "[encoded data removed]"
     },
     "metadata": {},
     "output_type": "display_data"
    }
   ],
   "source": [
    "import plotly.graph_objects as go\n",
    "\n",
    "# Example 3×3 data\n",
    "z = [\n",
    "    [1, 20, 30],\n",
    "    [20, 1, 60],\n",
    "    [30, 60, 1]\n",
    "]\n",
    "\n",
    "fig = go.Figure(data=go.Heatmap(\n",
    "    z=z,\n",
    "    colorscale='Viridis',  # matches Matplotlib's default 'viridis' colormap\n",
    "    showscale=True,\n",
    "    colorbar=dict(\n",
    "        thickness=20,               # bar thickness in pixels\n",
    "        outlinewidth=0.8,           # border width (pts)\n",
    "        outlinecolor='black',       # border color\n",
    "        ticklen=3.5,                # tick length (pts)\n",
    "        tickwidth=0.8,              # tick width (pts)\n",
    "        tickcolor='black',          # tick color\n",
    "        tickfont=dict(\n",
    "            size=10,                # tick label font size\n",
    "            family='sans-serif',    # tick label font family\n",
    "            color='black'\n",
    "        )\n",
    "    )\n",
    "))\n",
    "\n",
    "fig.update_layout(\n",
    "    width=640,                      # 6.4 in × 100 dpi :contentReference[oaicite:10]{index=10}\n",
    "    height=480,                     # 4.8 in × 100 dpi :contentReference[oaicite:11]{index=11}\n",
    "    font=dict(\n",
    "        family='sans-serif',        # default font family :contentReference[oaicite:12]{index=12}\n",
    "        size=10,                    # default font size :contentReference[oaicite:13]{index=13}\n",
    "        color='black'\n",
    "    ),\n",
    "    paper_bgcolor='white',          # matches figure.facecolor :contentReference[oaicite:14]{index=14}\n",
    "    plot_bgcolor='white',           # matches axes.facecolor :contentReference[oaicite:15]{index=15}\n",
    "    margin=dict(l=80, r=80, t=80, b=80),\n",
    "    xaxis=dict(\n",
    "        showline=True,\n",
    "        linecolor='black',          # spine color :contentReference[oaicite:16]{index=16}\n",
    "        mirror=True,                # show all four spines\n",
    "        ticks='outside',\n",
    "        ticklen=3.5,                # tick length :contentReference[oaicite:17]{index=17}\n",
    "        tickwidth=0.8,              # tick width :contentReference[oaicite:18]{index=18}\n",
    "        tickcolor='black'\n",
    "    ),\n",
    "    yaxis=dict(\n",
    "        showline=True,\n",
    "        linecolor='black',          # spine color :contentReference[oaicite:19]{index=19}\n",
    "        mirror=True,\n",
    "        ticks='outside',\n",
    "        ticklen=3.5,                # tick length :contentReference[oaicite:20]{index=20}\n",
    "        tickwidth=0.8,              # tick width :contentReference[oaicite:21]{index=21}\n",
    "        tickcolor='black'\n",
    "    ),\n",
    ")\n",
    "\n",
    "fig.show()\n"
   ]
  },
  {
   "cell_type": "code",
   "execution_count": null,
   "metadata": {},
   "outputs": [],
   "source": []
  },
  {
   "cell_type": "code",
   "execution_count": null,
   "metadata": {},
   "outputs": [],
   "source": []
  }
 ],
 "metadata": {
  "kernelspec": {
   "display_name": "Python 3 (ipykernel)",
   "language": "python",
   "name": "python3"
  },
  "language_info": {
   "codemirror_mode": {
    "name": "ipython",
    "version": 3
   },
   "file_extension": ".py",
   "mimetype": "text/x-python",
   "name": "python",
   "nbconvert_exporter": "python",
   "pygments_lexer": "ipython3",
   "version": "3.11.9"
  }
 },
 "nbformat": 4,
 "nbformat_minor": 4
}
